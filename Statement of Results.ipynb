{
 "cells": [
  {
   "cell_type": "code",
   "execution_count": 3,
   "id": "93fc62e6",
   "metadata": {},
   "outputs": [
    {
     "name": "stdout",
     "output_type": "stream",
     "text": [
      "[{'': 'MEDAIN', 'Statement  of   Results': 'MATHS'}, {'': 74, 'Statement  of   Results': 78}, {'': 67.5, 'Statement  of   Results': 79}, {'': 89.5, 'Statement  of   Results': 88}, {'': 55.5, 'Statement  of   Results': 49}, {'': 63.5, 'Statement  of   Results': 77}, {'': 80, 'Statement  of   Results': 78}, {'': 61, 'Statement  of   Results': 67}, {'': 77.5, 'Statement  of   Results': 77}]\n"
     ]
    }
   ],
   "source": [
    "import gspread# pip install gspread\n",
    "gc = gspread.service_account (filename=\"cred.json\")\n",
    "sh = gc.open_by_key(\"1mEozHmW_LQirrO89RZQuICBhqKHsHA1NaMy4gWtb5ME\")\n",
    "worksheet= sh.sheet1\n",
    "res= worksheet.get_all_records()\n",
    "print(res)\n"
   ]
  },
  {
   "cell_type": "code",
   "execution_count": 5,
   "id": "d970004e",
   "metadata": {},
   "outputs": [
    {
     "data": {
      "text/plain": [
       "{'spreadsheetId': '1mEozHmW_LQirrO89RZQuICBhqKHsHA1NaMy4gWtb5ME',\n",
       " 'updates': {'spreadsheetId': '1mEozHmW_LQirrO89RZQuICBhqKHsHA1NaMy4gWtb5ME',\n",
       "  'updatedRange': 'Sheet1!A3:E3',\n",
       "  'updatedRows': 1,\n",
       "  'updatedColumns': 5,\n",
       "  'updatedCells': 5}}"
      ]
     },
     "execution_count": 5,
     "metadata": {},
     "output_type": "execute_result"
    }
   ],
   "source": [
    "user= [\"Emma\",60,\"56\",70,\"80\"]\n",
    "worksheet.insert_row(user,3)"
   ]
  },
  {
   "cell_type": "code",
   "execution_count": 6,
   "id": "fadedc07",
   "metadata": {},
   "outputs": [
    {
     "data": {
      "text/plain": [
       "{'spreadsheetId': '1mEozHmW_LQirrO89RZQuICBhqKHsHA1NaMy4gWtb5ME',\n",
       " 'updates': {'spreadsheetId': '1mEozHmW_LQirrO89RZQuICBhqKHsHA1NaMy4gWtb5ME',\n",
       "  'updatedRange': 'Sheet1!A6:E6',\n",
       "  'updatedRows': 1,\n",
       "  'updatedColumns': 5,\n",
       "  'updatedCells': 5}}"
      ]
     },
     "execution_count": 6,
     "metadata": {},
     "output_type": "execute_result"
    }
   ],
   "source": [
    "user= [\"Andrew \",90,\"76\",77,\"100\"]\n",
    "worksheet.insert_row(user,6)"
   ]
  },
  {
   "cell_type": "code",
   "execution_count": null,
   "id": "f6f1d82b",
   "metadata": {},
   "outputs": [],
   "source": []
  }
 ],
 "metadata": {
  "kernelspec": {
   "display_name": "Python 3",
   "language": "python",
   "name": "python3"
  },
  "language_info": {
   "codemirror_mode": {
    "name": "ipython",
    "version": 3
   },
   "file_extension": ".py",
   "mimetype": "text/x-python",
   "name": "python",
   "nbconvert_exporter": "python",
   "pygments_lexer": "ipython3",
   "version": "3.8.8"
  }
 },
 "nbformat": 4,
 "nbformat_minor": 5
}
